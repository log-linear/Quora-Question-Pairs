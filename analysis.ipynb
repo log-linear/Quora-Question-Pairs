{
 "cells": [
  {
   "cell_type": "markdown",
   "metadata": {
    "colab_type": "text",
    "id": "HtS9bAdXL1Eq",
    "pycharm": {}
   },
   "source": [
    "# Project 1: Quora Question Pairs\n",
    "\n",
    "## Description:\n",
    "\n",
    "This notebook uses NLP to generate predictions for the Quora Question Pairs dataset from https://www.kaggle.com/c/quora-question-pairs/data"
   ]
  },
  {
   "cell_type": "code",
   "execution_count": 1,
   "metadata": {
    "colab": {
     "base_uri": "https://localhost:8080/",
     "height": 52
    },
    "colab_type": "code",
    "id": "fwDWrY9pL1Ew",
    "outputId": "a59e5d64-7d91-4e94-e4f6-8317c64c6c5c",
    "pycharm": {
     "is_executing": false
    }
   },
   "outputs": [],
   "source": [
    "from pathlib import Path\n",
    "import random\n",
    "import io\n",
    "\n",
    "import spacy\n",
    "import numpy as np\n",
    "import pandas as pd\n",
    "from sklearn.linear_model import LogisticRegression\n",
    "from sklearn.ensemble import RandomForestClassifier\n",
    "from sklearn.decomposition import TruncatedSVD\n",
    "from sklearn.model_selection import train_test_split\n",
    "from sklearn.feature_extraction.text import TfidfVectorizer\n",
    "from sklearn.naive_bayes import MultinomialNB\n",
    "from sklearn.metrics import accuracy_score\n",
    "from sklearn.svm import SVC\n",
    "from sklearn.metrics import confusion_matrix\n",
    "from nltk.sentiment.vader import SentimentIntensityAnalyzer\n"
   ]
  },
  {
   "cell_type": "markdown",
   "metadata": {
    "colab_type": "text",
    "id": "fsf7HQ1UL1E9",
    "pycharm": {}
   },
   "source": [
    "## Function definitions, Training Set Import, Preprocessing\n",
    "\n",
    "### Define helper functions to calculate cosine similarity"
   ]
  },
  {
   "cell_type": "code",
   "execution_count": 2,
   "metadata": {
    "colab": {},
    "colab_type": "code",
    "id": "tQpD_RUeL1FA",
    "pycharm": {
     "is_executing": false,
     "metadata": false,
     "name": "#%%\n"
    }
   },
   "outputs": [],
   "source": [
    "def parse(nlp, docs):\n",
    "    parsed_docs = []\n",
    "    \n",
    "    for doc in nlp.pipe(list(docs), n_threads=10):\n",
    "        parsed_docs.append(doc)\n",
    "    \n",
    "    return parsed_docs\n",
    "\n",
    "\n",
    "def get_similarity(docs):\n",
    "    return docs[0].similarity(docs[1])\n",
    "\n",
    "\n",
    "def get_sentiment(text):\n",
    "    sid = SentimentIntensityAnalyzer()\n",
    "    polarity = sid.polarity_scores(text)\n",
    "\n",
    "    compound = polarity['compound']\n",
    "    neg = polarity['neg']\n",
    "    neu = polarity['neu']\n",
    "    pos = polarity['pos']\n",
    "        \n",
    "    return compound, neg, neu, pos\n",
    "\n",
    "\n",
    "sentiment_vectorized = np.vectorize(get_sentiment)"
   ]
  },
  {
   "cell_type": "markdown",
   "metadata": {
    "colab_type": "text",
    "id": "N4B4bqBxL1FJ",
    "pycharm": {
     "is_executing": false,
     "metadata": false,
     "name": "#%% md\n"
    }
   },
   "source": [
    "### Load in train.csv. For faster computation, only load 2.5% of the full sample, or about 10,000 rows"
   ]
  },
  {
   "cell_type": "code",
   "execution_count": 3,
   "metadata": {
    "colab": {
     "base_uri": "https://localhost:8080/",
     "height": 69
    },
    "colab_type": "code",
    "id": "ExDjWTeXL1FM",
    "outputId": "efb8f03e-4ed6-40f5-bf24-cd2d8ee261b3",
    "pycharm": {
     "is_executing": false,
     "metadata": false,
     "name": "#%%\n"
    }
   },
   "outputs": [
    {
     "data": {
      "text/plain": [
       "0    6378\n",
       "1    3659\n",
       "Name: is_duplicate, dtype: int64"
      ]
     },
     "execution_count": 3,
     "metadata": {},
     "output_type": "execute_result"
    }
   ],
   "source": [
    "random.seed(42)\n",
    "csv = Path.cwd().joinpath('train.csv')\n",
    "p = 0.025\n",
    "df = pd.read_csv(csv,\n",
    "                 index_col='id',\n",
    "                 skiprows=lambda i: i>0 and random.random() > p)\n",
    "df['is_duplicate'].value_counts()"
   ]
  },
  {
   "cell_type": "markdown",
   "metadata": {
    "colab_type": "text",
    "id": "hpMZF2SeL1FZ",
    "pycharm": {
     "metadata": false
    }
   },
   "source": [
    "### Calculate cosine similarity between question 1 and question 2, then concatenate the questions for TFIDF generation"
   ]
  },
  {
   "cell_type": "code",
   "execution_count": 4,
   "metadata": {
    "colab": {},
    "colab_type": "code",
    "id": "hdDaEtYpL1Fb",
    "pycharm": {
     "is_executing": false,
     "metadata": false,
     "name": "#%%\n"
    }
   },
   "outputs": [
    {
     "data": {
      "text/html": [
       "<div>\n",
       "<style scoped>\n",
       "    .dataframe tbody tr th:only-of-type {\n",
       "        vertical-align: middle;\n",
       "    }\n",
       "\n",
       "    .dataframe tbody tr th {\n",
       "        vertical-align: top;\n",
       "    }\n",
       "\n",
       "    .dataframe thead th {\n",
       "        text-align: right;\n",
       "    }\n",
       "</style>\n",
       "<table border=\"1\" class=\"dataframe\">\n",
       "  <thead>\n",
       "    <tr style=\"text-align: right;\">\n",
       "      <th></th>\n",
       "      <th>qid1</th>\n",
       "      <th>qid2</th>\n",
       "      <th>question1</th>\n",
       "      <th>question2</th>\n",
       "      <th>is_duplicate</th>\n",
       "      <th>q1_parsed</th>\n",
       "      <th>q2_parsed</th>\n",
       "    </tr>\n",
       "    <tr>\n",
       "      <th>id</th>\n",
       "      <th></th>\n",
       "      <th></th>\n",
       "      <th></th>\n",
       "      <th></th>\n",
       "      <th></th>\n",
       "      <th></th>\n",
       "      <th></th>\n",
       "    </tr>\n",
       "  </thead>\n",
       "  <tbody>\n",
       "    <tr>\n",
       "      <th>19</th>\n",
       "      <td>39</td>\n",
       "      <td>40</td>\n",
       "      <td>Which is the best digital marketing institutio...</td>\n",
       "      <td>Which is the best digital marketing institute ...</td>\n",
       "      <td>0</td>\n",
       "      <td>(Which, is, the, best, digital, marketing, ins...</td>\n",
       "      <td>(Which, is, the, best, digital, marketing, ins...</td>\n",
       "    </tr>\n",
       "    <tr>\n",
       "      <th>100</th>\n",
       "      <td>201</td>\n",
       "      <td>202</td>\n",
       "      <td>Will there really be any war between India and...</td>\n",
       "      <td>Will there be a nuclear war between India and ...</td>\n",
       "      <td>1</td>\n",
       "      <td>(Will, there, really, be, any, war, between, I...</td>\n",
       "      <td>(Will, there, be, a, nuclear, war, between, In...</td>\n",
       "    </tr>\n",
       "    <tr>\n",
       "      <th>124</th>\n",
       "      <td>249</td>\n",
       "      <td>250</td>\n",
       "      <td>What is the alternative to machine learning?</td>\n",
       "      <td>How do I over-sample a multi-class imbalance d...</td>\n",
       "      <td>0</td>\n",
       "      <td>(What, is, the, alternative, to, machine, lear...</td>\n",
       "      <td>(How, do, I, over, -, sample, a, multi, -, cla...</td>\n",
       "    </tr>\n",
       "    <tr>\n",
       "      <th>126</th>\n",
       "      <td>253</td>\n",
       "      <td>254</td>\n",
       "      <td>What is the mean of future budget?</td>\n",
       "      <td>What is the meaning of the future?</td>\n",
       "      <td>0</td>\n",
       "      <td>(What, is, the, mean, of, future, budget, ?)</td>\n",
       "      <td>(What, is, the, meaning, of, the, future, ?)</td>\n",
       "    </tr>\n",
       "    <tr>\n",
       "      <th>269</th>\n",
       "      <td>538</td>\n",
       "      <td>539</td>\n",
       "      <td>What are the rights of a prisoner?</td>\n",
       "      <td>If I am in prison, what rights would I have?</td>\n",
       "      <td>1</td>\n",
       "      <td>(What, are, the, rights, of, a, prisoner, ?)</td>\n",
       "      <td>(If, I, am, in, prison, ,, what, rights, would...</td>\n",
       "    </tr>\n",
       "  </tbody>\n",
       "</table>\n",
       "</div>"
      ],
      "text/plain": [
       "     qid1  qid2                                          question1  \\\n",
       "id                                                                   \n",
       "19     39    40  Which is the best digital marketing institutio...   \n",
       "100   201   202  Will there really be any war between India and...   \n",
       "124   249   250       What is the alternative to machine learning?   \n",
       "126   253   254                 What is the mean of future budget?   \n",
       "269   538   539                 What are the rights of a prisoner?   \n",
       "\n",
       "                                             question2  is_duplicate  \\\n",
       "id                                                                     \n",
       "19   Which is the best digital marketing institute ...             0   \n",
       "100  Will there be a nuclear war between India and ...             1   \n",
       "124  How do I over-sample a multi-class imbalance d...             0   \n",
       "126                 What is the meaning of the future?             0   \n",
       "269       If I am in prison, what rights would I have?             1   \n",
       "\n",
       "                                             q1_parsed  \\\n",
       "id                                                       \n",
       "19   (Which, is, the, best, digital, marketing, ins...   \n",
       "100  (Will, there, really, be, any, war, between, I...   \n",
       "124  (What, is, the, alternative, to, machine, lear...   \n",
       "126       (What, is, the, mean, of, future, budget, ?)   \n",
       "269       (What, are, the, rights, of, a, prisoner, ?)   \n",
       "\n",
       "                                             q2_parsed  \n",
       "id                                                      \n",
       "19   (Which, is, the, best, digital, marketing, ins...  \n",
       "100  (Will, there, be, a, nuclear, war, between, In...  \n",
       "124  (How, do, I, over, -, sample, a, multi, -, cla...  \n",
       "126       (What, is, the, meaning, of, the, future, ?)  \n",
       "269  (If, I, am, in, prison, ,, what, rights, would...  "
      ]
     },
     "execution_count": 4,
     "metadata": {},
     "output_type": "execute_result"
    }
   ],
   "source": [
    "nlp = spacy.load('en_core_web_lg')\n",
    "\n",
    "df['q1_parsed'] = parse(nlp, df['question1'].astype(str))\n",
    "df['q2_parsed'] = parse(nlp, df['question2'].astype(str))\n",
    "\n",
    "df.head()"
   ]
  },
  {
   "cell_type": "code",
   "execution_count": 5,
   "metadata": {
    "colab": {},
    "colab_type": "code",
    "id": "hdDaEtYpL1Fb",
    "pycharm": {
     "is_executing": false,
     "metadata": false,
     "name": "#%%\n"
    }
   },
   "outputs": [
    {
     "data": {
      "text/html": [
       "<div>\n",
       "<style scoped>\n",
       "    .dataframe tbody tr th:only-of-type {\n",
       "        vertical-align: middle;\n",
       "    }\n",
       "\n",
       "    .dataframe tbody tr th {\n",
       "        vertical-align: top;\n",
       "    }\n",
       "\n",
       "    .dataframe thead th {\n",
       "        text-align: right;\n",
       "    }\n",
       "</style>\n",
       "<table border=\"1\" class=\"dataframe\">\n",
       "  <thead>\n",
       "    <tr style=\"text-align: right;\">\n",
       "      <th></th>\n",
       "      <th>qid1</th>\n",
       "      <th>qid2</th>\n",
       "      <th>question1</th>\n",
       "      <th>question2</th>\n",
       "      <th>is_duplicate</th>\n",
       "      <th>q1_parsed</th>\n",
       "      <th>q2_parsed</th>\n",
       "      <th>similarity</th>\n",
       "      <th>q_concat</th>\n",
       "    </tr>\n",
       "    <tr>\n",
       "      <th>id</th>\n",
       "      <th></th>\n",
       "      <th></th>\n",
       "      <th></th>\n",
       "      <th></th>\n",
       "      <th></th>\n",
       "      <th></th>\n",
       "      <th></th>\n",
       "      <th></th>\n",
       "      <th></th>\n",
       "    </tr>\n",
       "  </thead>\n",
       "  <tbody>\n",
       "    <tr>\n",
       "      <th>19</th>\n",
       "      <td>39</td>\n",
       "      <td>40</td>\n",
       "      <td>Which is the best digital marketing institutio...</td>\n",
       "      <td>Which is the best digital marketing institute ...</td>\n",
       "      <td>0</td>\n",
       "      <td>(Which, is, the, best, digital, marketing, ins...</td>\n",
       "      <td>(Which, is, the, best, digital, marketing, ins...</td>\n",
       "      <td>0.969762</td>\n",
       "      <td>Which is the best digital marketing institutio...</td>\n",
       "    </tr>\n",
       "    <tr>\n",
       "      <th>100</th>\n",
       "      <td>201</td>\n",
       "      <td>202</td>\n",
       "      <td>Will there really be any war between India and...</td>\n",
       "      <td>Will there be a nuclear war between India and ...</td>\n",
       "      <td>1</td>\n",
       "      <td>(Will, there, really, be, any, war, between, I...</td>\n",
       "      <td>(Will, there, be, a, nuclear, war, between, In...</td>\n",
       "      <td>0.947574</td>\n",
       "      <td>Will there really be any war between India and...</td>\n",
       "    </tr>\n",
       "    <tr>\n",
       "      <th>124</th>\n",
       "      <td>249</td>\n",
       "      <td>250</td>\n",
       "      <td>What is the alternative to machine learning?</td>\n",
       "      <td>How do I over-sample a multi-class imbalance d...</td>\n",
       "      <td>0</td>\n",
       "      <td>(What, is, the, alternative, to, machine, lear...</td>\n",
       "      <td>(How, do, I, over, -, sample, a, multi, -, cla...</td>\n",
       "      <td>0.835211</td>\n",
       "      <td>What is the alternative to machine learning? H...</td>\n",
       "    </tr>\n",
       "    <tr>\n",
       "      <th>126</th>\n",
       "      <td>253</td>\n",
       "      <td>254</td>\n",
       "      <td>What is the mean of future budget?</td>\n",
       "      <td>What is the meaning of the future?</td>\n",
       "      <td>0</td>\n",
       "      <td>(What, is, the, mean, of, future, budget, ?)</td>\n",
       "      <td>(What, is, the, meaning, of, the, future, ?)</td>\n",
       "      <td>0.957273</td>\n",
       "      <td>What is the mean of future budget? What is the...</td>\n",
       "    </tr>\n",
       "    <tr>\n",
       "      <th>269</th>\n",
       "      <td>538</td>\n",
       "      <td>539</td>\n",
       "      <td>What are the rights of a prisoner?</td>\n",
       "      <td>If I am in prison, what rights would I have?</td>\n",
       "      <td>1</td>\n",
       "      <td>(What, are, the, rights, of, a, prisoner, ?)</td>\n",
       "      <td>(If, I, am, in, prison, ,, what, rights, would...</td>\n",
       "      <td>0.849611</td>\n",
       "      <td>What are the rights of a prisoner? If I am in ...</td>\n",
       "    </tr>\n",
       "  </tbody>\n",
       "</table>\n",
       "</div>"
      ],
      "text/plain": [
       "     qid1  qid2                                          question1  \\\n",
       "id                                                                   \n",
       "19     39    40  Which is the best digital marketing institutio...   \n",
       "100   201   202  Will there really be any war between India and...   \n",
       "124   249   250       What is the alternative to machine learning?   \n",
       "126   253   254                 What is the mean of future budget?   \n",
       "269   538   539                 What are the rights of a prisoner?   \n",
       "\n",
       "                                             question2  is_duplicate  \\\n",
       "id                                                                     \n",
       "19   Which is the best digital marketing institute ...             0   \n",
       "100  Will there be a nuclear war between India and ...             1   \n",
       "124  How do I over-sample a multi-class imbalance d...             0   \n",
       "126                 What is the meaning of the future?             0   \n",
       "269       If I am in prison, what rights would I have?             1   \n",
       "\n",
       "                                             q1_parsed  \\\n",
       "id                                                       \n",
       "19   (Which, is, the, best, digital, marketing, ins...   \n",
       "100  (Will, there, really, be, any, war, between, I...   \n",
       "124  (What, is, the, alternative, to, machine, lear...   \n",
       "126       (What, is, the, mean, of, future, budget, ?)   \n",
       "269       (What, are, the, rights, of, a, prisoner, ?)   \n",
       "\n",
       "                                             q2_parsed  similarity  \\\n",
       "id                                                                   \n",
       "19   (Which, is, the, best, digital, marketing, ins...    0.969762   \n",
       "100  (Will, there, be, a, nuclear, war, between, In...    0.947574   \n",
       "124  (How, do, I, over, -, sample, a, multi, -, cla...    0.835211   \n",
       "126       (What, is, the, meaning, of, the, future, ?)    0.957273   \n",
       "269  (If, I, am, in, prison, ,, what, rights, would...    0.849611   \n",
       "\n",
       "                                              q_concat  \n",
       "id                                                      \n",
       "19   Which is the best digital marketing institutio...  \n",
       "100  Will there really be any war between India and...  \n",
       "124  What is the alternative to machine learning? H...  \n",
       "126  What is the mean of future budget? What is the...  \n",
       "269  What are the rights of a prisoner? If I am in ...  "
      ]
     },
     "execution_count": 5,
     "metadata": {},
     "output_type": "execute_result"
    }
   ],
   "source": [
    "df['similarity'] = df[['q1_parsed', 'q2_parsed']].apply(get_similarity, axis=1)\n",
    "df['q_concat'] = df['question1'].map(str) + ' ' + df['question2']\n",
    "\n",
    "df.head()"
   ]
  },
  {
   "cell_type": "markdown",
   "metadata": {
    "colab_type": "text",
    "id": "6cEzOu2gL1Fl",
    "pycharm": {
     "is_executing": false,
     "metadata": false,
     "name": "#%%\n"
    }
   },
   "source": [
    "### Calculate polarity scores for each question"
   ]
  },
  {
   "cell_type": "code",
   "execution_count": 6,
   "metadata": {
    "colab": {},
    "colab_type": "code",
    "id": "06xyTLDvL1Fo",
    "pycharm": {
     "is_executing": false,
     "metadata": false,
     "name": "#%%\n"
    }
   },
   "outputs": [],
   "source": [
    "sentiment1 = sentiment_vectorized(df['question1'].values)\n",
    "sentiment2 = sentiment_vectorized(df['question2'].values)"
   ]
  },
  {
   "cell_type": "code",
   "execution_count": null,
   "metadata": {
    "colab": {},
    "colab_type": "code",
    "id": "06xyTLDvL1Fo",
    "pycharm": {
     "is_executing": false,
     "metadata": false,
     "name": "#%%\n"
    }
   },
   "outputs": [],
   "source": [
    "df['compound1'] = sentiment1[0]\n",
    "df['neg1'] = sentiment1[1]\n",
    "df['neu1'] = sentiment1[2]\n",
    "df['pos1'] = sentiment1[3]\n",
    "\n",
    "df['compound2'] = sentiment2[0]\n",
    "df['neg2'] = sentiment2[1]\n",
    "df['neu2'] = sentiment2[2]\n",
    "df['pos2'] = sentiment2[3]\n",
    "\n",
    "df.head()"
   ]
  },
  {
   "cell_type": "markdown",
   "metadata": {
    "colab_type": "text",
    "id": "Wtmsa5NvL1F0",
    "pycharm": {
     "is_executing": false,
     "metadata": false,
     "name": "#%%\n"
    }
   },
   "source": [
    "### Calculate absolute differences in sentimentality for each question-pair"
   ]
  },
  {
   "cell_type": "code",
   "execution_count": null,
   "metadata": {
    "colab": {},
    "colab_type": "code",
    "id": "wpBcA5jtL1F5",
    "pycharm": {
     "is_executing": false,
     "metadata": false,
     "name": "#%%\n"
    }
   },
   "outputs": [],
   "source": [
    "df['compound_diff'] = (df['compound1'] - df['compound2']).abs()\n",
    "df['neg_diff'] = (df['neg1'] - df['neg2']).abs()\n",
    "df['neu_diff'] = (df['neu1'] - df['neu2']).abs()\n",
    "df['pos_diff'] = (df['pos1'] - df['pos2']).abs()\n",
    "\n",
    "df.head(10)"
   ]
  },
  {
   "cell_type": "markdown",
   "metadata": {
    "colab_type": "text",
    "id": "Eiff4wejL1GD",
    "pycharm": {
     "metadata": false
    }
   },
   "source": [
    "### Train-test split"
   ]
  },
  {
   "cell_type": "code",
   "execution_count": null,
   "metadata": {
    "colab": {},
    "colab_type": "code",
    "id": "gUQTxS0uL1GI",
    "pycharm": {
     "is_executing": false
    }
   },
   "outputs": [],
   "source": [
    "x = df.drop(['question1', \n",
    "             'question2', \n",
    "             'qid1', \n",
    "             'qid2',\n",
    "             'compound1',\n",
    "             'neg1',\n",
    "             'neu1',\n",
    "             'pos1',\n",
    "             'compound2',\n",
    "             'neg2',\n",
    "             'neu2',\n",
    "             'pos2',\n",
    "             'is_duplicate'], axis=1)\n",
    "y = df['is_duplicate']\n",
    "\n",
    "x_train, x_test, y_train, y_test = train_test_split(\n",
    "        x, y, stratify=y, random_state=42\n",
    "    )\n",
    "\n",
    "x_train.head()"
   ]
  },
  {
   "cell_type": "markdown",
   "metadata": {
    "colab_type": "text",
    "id": "sCA60B-xL1GV",
    "pycharm": {}
   },
   "source": [
    "## TF-IDF Vectorizer\n",
    "\n",
    "Generate TF-IDF's for the train and test sets"
   ]
  },
  {
   "cell_type": "code",
   "execution_count": null,
   "metadata": {
    "colab": {},
    "colab_type": "code",
    "id": "3ZsA3STgL1GX",
    "pycharm": {
     "is_executing": false
    }
   },
   "outputs": [],
   "source": [
    "vectorizer = TfidfVectorizer()\n",
    "train_tfidf = vectorizer.fit_transform(\n",
    "        x_train['q_concat'].values.astype('U')\n",
    "    )\n",
    "test_tfidf = vectorizer.transform(\n",
    "        x_test['q_concat'].values.astype('U')\n",
    "    )\n",
    "x_train_bow = pd.merge(\n",
    "        x_train.drop('q_concat', axis=1), \n",
    "        pd.DataFrame(train_tfidf.todense(), index=x_train.index), \n",
    "        on=x_train.index\n",
    "    ).set_index('key_0')\n",
    "x_test_bow = pd.merge(\n",
    "        x_test.drop('q_concat', axis=1), \n",
    "        pd.DataFrame(test_tfidf.todense(), index=x_test.index), \n",
    "        on=x_test.index\n",
    "    ).set_index('key_0')\n",
    "\n",
    "x_train_bow.head()"
   ]
  },
  {
   "cell_type": "markdown",
   "metadata": {
    "colab_type": "text",
    "id": "q8jbe8R0L1Ge",
    "pycharm": {
     "is_executing": false
    }
   },
   "source": [
    "## Model 1: Logistic Regression"
   ]
  },
  {
   "cell_type": "code",
   "execution_count": null,
   "metadata": {
    "colab": {},
    "colab_type": "code",
    "id": "vCIrUtjFL1Gh",
    "pycharm": {
     "is_executing": false
    }
   },
   "outputs": [],
   "source": [
    "logit = LogisticRegression(solver='sag', random_state=42)\n",
    "logit.fit(x_train_bow, y_train)\n",
    "preds = logit.predict(x_test_bow)\n",
    "print(accuracy_score(y_test, preds))\n",
    "print(confusion_matrix(y_test, preds))"
   ]
  },
  {
   "cell_type": "markdown",
   "metadata": {
    "colab_type": "text",
    "id": "KOcECX3iL1Gq",
    "pycharm": {}
   },
   "source": [
    "## Model 2: Multinomial Naive Bayes\n",
    "\n",
    "Multinomial Naive Bayes shows a strong bias towards non-duplicate predictions"
   ]
  },
  {
   "cell_type": "code",
   "execution_count": null,
   "metadata": {
    "colab": {},
    "colab_type": "code",
    "id": "vyFb_Q7zL1Gs",
    "pycharm": {
     "is_executing": false
    }
   },
   "outputs": [],
   "source": [
    "mnb = MultinomialNB()\n",
    "mnb.fit(x_train_bow, y_train)\n",
    "preds = mnb.predict(x_test_bow)\n",
    "print(accuracy_score(y_test, preds))\n",
    "print(confusion_matrix(y_test, preds))"
   ]
  },
  {
   "cell_type": "markdown",
   "metadata": {
    "colab_type": "text",
    "id": "GEI4VnIlL1G1",
    "pycharm": {}
   },
   "source": [
    "## Feature transformation: Singular Value Decomposition\n",
    "\n",
    "Using sklearn's TruncatedSVD class, reduce the TF-IDF's into a lower feature space of 100 components"
   ]
  },
  {
   "cell_type": "code",
   "execution_count": null,
   "metadata": {
    "colab": {},
    "colab_type": "code",
    "id": "U_lj7SK7L1G2",
    "pycharm": {
     "is_executing": false
    }
   },
   "outputs": [],
   "source": [
    "svd = TruncatedSVD(n_components=100, random_state=42)\n",
    "train_tfidf_lsa = svd.fit_transform(train_tfidf)\n",
    "test_tfidf_lsa = svd.transform(test_tfidf)\n",
    "\n",
    "x_train_lsa = pd.merge(\n",
    "        x_train.drop('q_concat', axis=1), \n",
    "        pd.DataFrame(train_tfidf_lsa, index=x_train.index), \n",
    "        on=x_train.index\n",
    "    ).set_index('key_0')\n",
    "x_test_lsa = pd.merge(\n",
    "        x_test.drop('q_concat', axis=1), \n",
    "        pd.DataFrame(test_tfidf_lsa, index=x_test.index), \n",
    "        on=x_test.index\n",
    "    ).set_index('key_0')\n",
    "\n",
    "x_train_lsa.head()"
   ]
  },
  {
   "cell_type": "markdown",
   "metadata": {
    "colab_type": "text",
    "id": "OzOdyykFL1HC",
    "pycharm": {
     "is_executing": false
    }
   },
   "source": [
    "## Model 1: Logistic Regression\n",
    "\n",
    "Not much improvement over the non-reduced dataset"
   ]
  },
  {
   "cell_type": "code",
   "execution_count": null,
   "metadata": {
    "colab": {},
    "colab_type": "code",
    "id": "QjWcMZMVL1HE",
    "pycharm": {
     "is_executing": false
    }
   },
   "outputs": [],
   "source": [
    "logit = LogisticRegression(C=999999, solver='liblinear', random_state=42)\n",
    "logit.fit(x_train_lsa, y_train)\n",
    "preds = logit.predict(x_test_lsa)\n",
    "print(accuracy_score(y_test, preds))\n",
    "print(confusion_matrix(y_test, preds))"
   ]
  },
  {
   "cell_type": "markdown",
   "metadata": {
    "colab_type": "text",
    "id": "_3lRHPLwL1HQ",
    "pycharm": {}
   },
   "source": [
    "## Model 2: Support Vector Machine\n",
    "\n",
    "Using cosine similarity, sentiment differences, and the decomposed TF-IDF's as features, the linear Support Vector Machine Classifier demonstrates greatly improved performance over Multinomial Naive Bayes, with much less bias toward non-duplicate predictions"
   ]
  },
  {
   "cell_type": "code",
   "execution_count": null,
   "metadata": {
    "colab": {},
    "colab_type": "code",
    "id": "WUfgKSJZL1HT",
    "pycharm": {
     "is_executing": false
    }
   },
   "outputs": [],
   "source": [
    "svc = SVC(kernel='linear', random_state=42)\n",
    "svc.fit(x_train_lsa, y_train)\n",
    "preds = svc.predict(x_test_lsa)\n",
    "print(accuracy_score(y_test, preds))\n",
    "print(confusion_matrix(y_test, preds))"
   ]
  },
  {
   "cell_type": "code",
   "execution_count": null,
   "metadata": {
    "colab": {},
    "colab_type": "code",
    "id": "5DFoDI8IbDfn"
   },
   "outputs": [],
   "source": []
  }
 ],
 "metadata": {
  "accelerator": "GPU",
  "colab": {
   "collapsed_sections": [],
   "name": "analysis.ipynb",
   "provenance": [],
   "version": "0.3.2"
  },
  "kernelspec": {
   "display_name": "Python 3",
   "language": "python",
   "name": "python3"
  },
  "language_info": {
   "codemirror_mode": {
    "name": "ipython",
    "version": 3
   },
   "file_extension": ".py",
   "mimetype": "text/x-python",
   "name": "python",
   "nbconvert_exporter": "python",
   "pygments_lexer": "ipython3",
   "version": "3.7.2"
  }
 },
 "nbformat": 4,
 "nbformat_minor": 2
}
