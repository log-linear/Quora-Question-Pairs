{
  "cells": [
    {
      "cell_type": "markdown",
      "metadata": {
        "pycharm": {}
      },
      "source": "# Project 1: Quora Question Pairs\n\n## Description:\n\nThis notebook uses NLP to generate predictions for the Quora Question Pairs dataset from https://www.kaggle.com/c/quora-question-pairs/data"
    },
    {
      "cell_type": "code",
      "execution_count": 1,
      "metadata": {
        "pycharm": {
          "is_executing": false
        }
      },
      "outputs": [],
      "source": "from pathlib import Path\nimport random\n\nimport spacy\nimport pandas as pd\nfrom sklearn.decomposition import TruncatedSVD\nfrom sklearn.model_selection import train_test_split\nfrom sklearn.feature_extraction.text import TfidfVectorizer\nfrom sklearn.naive_bayes import MultinomialNB\nfrom sklearn.metrics import accuracy_score\nfrom sklearn.svm import SVC\nfrom sklearn.metrics import confusion_matrix\n"
    },
    {
      "cell_type": "markdown",
      "metadata": {
        "pycharm": {}
      },
      "source": "## Function definitions, Training Set Import, Preprocessing\n\nDefine helper functions to calculate cosine similarity"
    },
    {
      "cell_type": "code",
      "execution_count": 2,
      "outputs": [],
      "source": "\n\ndef parse(nlp, ser):\n    docs \u003d []\n    \n    for doc in nlp.pipe(ser.astype(\u0027unicode\u0027).values, n_threads\u003d10):\n        docs.append(doc)\n    \n    return docs\n\n\ndef get_similarity(docs1, docs2):\n    similarity \u003d []\n    \n    for idx in range(len(docs1)):\n        similarity.append(docs1[idx].similarity(docs2[idx]))            \n        \n    return similarity\n\n",
      "metadata": {
        "pycharm": {
          "metadata": false,
          "name": "#%%\n",
          "is_executing": false
        }
      }
    },
    {
      "cell_type": "markdown",
      "source": "Load in train.csv. For faster computation, only load 2.5% of the full sample, or about 10,000 rows",
      "metadata": {
        "pycharm": {
          "metadata": false,
          "name": "#%% md\n",
          "is_executing": false
        }
      },
      "outputs": [
        {
          "traceback": [
            "\u001b[0;31m---------------------------------------------------------------------------\u001b[0m",
            "\u001b[0;31mKeyError\u001b[0m                                  Traceback (most recent call last)",
            "\u001b[0;32m\u003cipython-input-4-aec766ad2f92\u003e\u001b[0m in \u001b[0;36m\u003cmodule\u003e\u001b[0;34m\u001b[0m\n\u001b[1;32m     14\u001b[0m \u001b[0;34m\u001b[0m\u001b[0m\n\u001b[1;32m     15\u001b[0m df[\u0027similarity\u0027] \u003d get_similarity(\n\u001b[0;32m---\u003e 16\u001b[0;31m         \u001b[0mdf_q1_parsed\u001b[0m\u001b[0;34m[\u001b[0m\u001b[0;34m\u0027docs\u0027\u001b[0m\u001b[0;34m]\u001b[0m\u001b[0;34m,\u001b[0m\u001b[0;34m\u001b[0m\u001b[0;34m\u001b[0m\u001b[0m\n\u001b[0m\u001b[1;32m     17\u001b[0m         \u001b[0mdf_q2_parsed\u001b[0m\u001b[0;34m[\u001b[0m\u001b[0;34m\u0027docs\u0027\u001b[0m\u001b[0;34m]\u001b[0m\u001b[0;34m,\u001b[0m\u001b[0;34m\u001b[0m\u001b[0;34m\u001b[0m\u001b[0m\n\u001b[1;32m     18\u001b[0m     )\n",
            "\u001b[0;32m~/miniconda3/envs/nlp/lib/python3.7/site-packages/pandas/core/series.py\u001b[0m in \u001b[0;36m__getitem__\u001b[0;34m(self, key)\u001b[0m\n\u001b[1;32m    866\u001b[0m         \u001b[0mkey\u001b[0m \u001b[0;34m\u003d\u001b[0m \u001b[0mcom\u001b[0m\u001b[0;34m.\u001b[0m\u001b[0mapply_if_callable\u001b[0m\u001b[0;34m(\u001b[0m\u001b[0mkey\u001b[0m\u001b[0;34m,\u001b[0m \u001b[0mself\u001b[0m\u001b[0;34m)\u001b[0m\u001b[0;34m\u001b[0m\u001b[0;34m\u001b[0m\u001b[0m\n\u001b[1;32m    867\u001b[0m         \u001b[0;32mtry\u001b[0m\u001b[0;34m:\u001b[0m\u001b[0;34m\u001b[0m\u001b[0;34m\u001b[0m\u001b[0m\n\u001b[0;32m--\u003e 868\u001b[0;31m             \u001b[0mresult\u001b[0m \u001b[0;34m\u003d\u001b[0m \u001b[0mself\u001b[0m\u001b[0;34m.\u001b[0m\u001b[0mindex\u001b[0m\u001b[0;34m.\u001b[0m\u001b[0mget_value\u001b[0m\u001b[0;34m(\u001b[0m\u001b[0mself\u001b[0m\u001b[0;34m,\u001b[0m \u001b[0mkey\u001b[0m\u001b[0;34m)\u001b[0m\u001b[0;34m\u001b[0m\u001b[0;34m\u001b[0m\u001b[0m\n\u001b[0m\u001b[1;32m    869\u001b[0m \u001b[0;34m\u001b[0m\u001b[0m\n\u001b[1;32m    870\u001b[0m             \u001b[0;32mif\u001b[0m \u001b[0;32mnot\u001b[0m \u001b[0mis_scalar\u001b[0m\u001b[0;34m(\u001b[0m\u001b[0mresult\u001b[0m\u001b[0;34m)\u001b[0m\u001b[0;34m:\u001b[0m\u001b[0;34m\u001b[0m\u001b[0;34m\u001b[0m\u001b[0m\n",
            "\u001b[0;32m~/miniconda3/envs/nlp/lib/python3.7/site-packages/pandas/core/indexes/base.py\u001b[0m in \u001b[0;36mget_value\u001b[0;34m(self, series, key)\u001b[0m\n\u001b[1;32m   4372\u001b[0m         \u001b[0;32mtry\u001b[0m\u001b[0;34m:\u001b[0m\u001b[0;34m\u001b[0m\u001b[0;34m\u001b[0m\u001b[0m\n\u001b[1;32m   4373\u001b[0m             return self._engine.get_value(s, k,\n\u001b[0;32m-\u003e 4374\u001b[0;31m                                           tz\u003dgetattr(series.dtype, \u0027tz\u0027, None))\n\u001b[0m\u001b[1;32m   4375\u001b[0m         \u001b[0;32mexcept\u001b[0m \u001b[0mKeyError\u001b[0m \u001b[0;32mas\u001b[0m \u001b[0me1\u001b[0m\u001b[0;34m:\u001b[0m\u001b[0;34m\u001b[0m\u001b[0;34m\u001b[0m\u001b[0m\n\u001b[1;32m   4376\u001b[0m             \u001b[0;32mif\u001b[0m \u001b[0mlen\u001b[0m\u001b[0;34m(\u001b[0m\u001b[0mself\u001b[0m\u001b[0;34m)\u001b[0m \u001b[0;34m\u003e\u001b[0m \u001b[0;36m0\u001b[0m \u001b[0;32mand\u001b[0m \u001b[0;34m(\u001b[0m\u001b[0mself\u001b[0m\u001b[0;34m.\u001b[0m\u001b[0mholds_integer\u001b[0m\u001b[0;34m(\u001b[0m\u001b[0;34m)\u001b[0m \u001b[0;32mor\u001b[0m \u001b[0mself\u001b[0m\u001b[0;34m.\u001b[0m\u001b[0mis_boolean\u001b[0m\u001b[0;34m(\u001b[0m\u001b[0;34m)\u001b[0m\u001b[0;34m)\u001b[0m\u001b[0;34m:\u001b[0m\u001b[0;34m\u001b[0m\u001b[0;34m\u001b[0m\u001b[0m\n",
            "\u001b[0;32mpandas/_libs/index.pyx\u001b[0m in \u001b[0;36mpandas._libs.index.IndexEngine.get_value\u001b[0;34m()\u001b[0m\n",
            "\u001b[0;32mpandas/_libs/index.pyx\u001b[0m in \u001b[0;36mpandas._libs.index.IndexEngine.get_value\u001b[0;34m()\u001b[0m\n",
            "\u001b[0;32mpandas/_libs/index.pyx\u001b[0m in \u001b[0;36mpandas._libs.index.IndexEngine.get_loc\u001b[0;34m()\u001b[0m\n",
            "\u001b[0;32mpandas/_libs/index_class_helper.pxi\u001b[0m in \u001b[0;36mpandas._libs.index.Int64Engine._check_type\u001b[0;34m()\u001b[0m\n",
            "\u001b[0;31mKeyError\u001b[0m: \u0027docs\u0027"
          ],
          "ename": "KeyError",
          "evalue": "\u0027docs\u0027",
          "output_type": "error"
        }
      ],
      "execution_count": 4
    },
    {
      "cell_type": "code",
      "execution_count": 3,
      "outputs": [
        {
          "data": {
            "text/plain": "     qid1  qid2                                          question1  \\\nid                                                                   \n25     51    52  What are some tips on making it through the jo...   \n42     85    86          Can I make 50,000 a month by day trading?   \n111   223   224     Is USA the most powerful country of the world?   \n231   463   464  Is drinking 4 liters of water each day unhealthy?   \n287   574   575  If there will be a war between India and Pakis...   \n\n                                             question2  is_duplicate  \nid                                                                    \n25   What are some tips on making it through the jo...             0  \n42           Can I make 30,000 a month by day trading?             0  \n111  Why is the USA the most powerful country of th...             0  \n231  How many liters of water should I drink if I r...             0  \n287  Who will win if a war starts between India and...             1  ",
            "text/html": "\u003cdiv\u003e\n\u003cstyle scoped\u003e\n    .dataframe tbody tr th:only-of-type {\n        vertical-align: middle;\n    }\n\n    .dataframe tbody tr th {\n        vertical-align: top;\n    }\n\n    .dataframe thead th {\n        text-align: right;\n    }\n\u003c/style\u003e\n\u003ctable border\u003d\"1\" class\u003d\"dataframe\"\u003e\n  \u003cthead\u003e\n    \u003ctr style\u003d\"text-align: right;\"\u003e\n      \u003cth\u003e\u003c/th\u003e\n      \u003cth\u003eqid1\u003c/th\u003e\n      \u003cth\u003eqid2\u003c/th\u003e\n      \u003cth\u003equestion1\u003c/th\u003e\n      \u003cth\u003equestion2\u003c/th\u003e\n      \u003cth\u003eis_duplicate\u003c/th\u003e\n    \u003c/tr\u003e\n    \u003ctr\u003e\n      \u003cth\u003eid\u003c/th\u003e\n      \u003cth\u003e\u003c/th\u003e\n      \u003cth\u003e\u003c/th\u003e\n      \u003cth\u003e\u003c/th\u003e\n      \u003cth\u003e\u003c/th\u003e\n      \u003cth\u003e\u003c/th\u003e\n    \u003c/tr\u003e\n  \u003c/thead\u003e\n  \u003ctbody\u003e\n    \u003ctr\u003e\n      \u003cth\u003e25\u003c/th\u003e\n      \u003ctd\u003e51\u003c/td\u003e\n      \u003ctd\u003e52\u003c/td\u003e\n      \u003ctd\u003eWhat are some tips on making it through the jo...\u003c/td\u003e\n      \u003ctd\u003eWhat are some tips on making it through the jo...\u003c/td\u003e\n      \u003ctd\u003e0\u003c/td\u003e\n    \u003c/tr\u003e\n    \u003ctr\u003e\n      \u003cth\u003e42\u003c/th\u003e\n      \u003ctd\u003e85\u003c/td\u003e\n      \u003ctd\u003e86\u003c/td\u003e\n      \u003ctd\u003eCan I make 50,000 a month by day trading?\u003c/td\u003e\n      \u003ctd\u003eCan I make 30,000 a month by day trading?\u003c/td\u003e\n      \u003ctd\u003e0\u003c/td\u003e\n    \u003c/tr\u003e\n    \u003ctr\u003e\n      \u003cth\u003e111\u003c/th\u003e\n      \u003ctd\u003e223\u003c/td\u003e\n      \u003ctd\u003e224\u003c/td\u003e\n      \u003ctd\u003eIs USA the most powerful country of the world?\u003c/td\u003e\n      \u003ctd\u003eWhy is the USA the most powerful country of th...\u003c/td\u003e\n      \u003ctd\u003e0\u003c/td\u003e\n    \u003c/tr\u003e\n    \u003ctr\u003e\n      \u003cth\u003e231\u003c/th\u003e\n      \u003ctd\u003e463\u003c/td\u003e\n      \u003ctd\u003e464\u003c/td\u003e\n      \u003ctd\u003eIs drinking 4 liters of water each day unhealthy?\u003c/td\u003e\n      \u003ctd\u003eHow many liters of water should I drink if I r...\u003c/td\u003e\n      \u003ctd\u003e0\u003c/td\u003e\n    \u003c/tr\u003e\n    \u003ctr\u003e\n      \u003cth\u003e287\u003c/th\u003e\n      \u003ctd\u003e574\u003c/td\u003e\n      \u003ctd\u003e575\u003c/td\u003e\n      \u003ctd\u003eIf there will be a war between India and Pakis...\u003c/td\u003e\n      \u003ctd\u003eWho will win if a war starts between India and...\u003c/td\u003e\n      \u003ctd\u003e1\u003c/td\u003e\n    \u003c/tr\u003e\n  \u003c/tbody\u003e\n\u003c/table\u003e\n\u003c/div\u003e"
          },
          "metadata": {},
          "output_type": "execute_result",
          "execution_count": 3
        }
      ],
      "source": "csv \u003d Path.cwd().joinpath(\u0027train.csv\u0027)\np \u003d 0.025\ndf \u003d pd.read_csv(csv,\n                 index_col\u003d\u0027id\u0027,\n                 skiprows\u003dlambda i: i\u003e0 and random.random() \u003e p)\ndf.head()",
      "metadata": {
        "pycharm": {
          "metadata": false,
          "name": "#%%\n",
          "is_executing": false
        }
      }
    },
    {
      "cell_type": "markdown",
      "source": "Calculate cosine similarity between question 1 and question 2, then concatenate the questions for TFIDF generation",
      "metadata": {
        "pycharm": {
          "metadata": false
        }
      }
    },
    {
      "cell_type": "code",
      "execution_count": 4,
      "outputs": [
        {
          "data": {
            "text/plain": "     qid1  qid2                                          question1  \\\nid                                                                   \n25     51    52  What are some tips on making it through the jo...   \n42     85    86          Can I make 50,000 a month by day trading?   \n111   223   224     Is USA the most powerful country of the world?   \n231   463   464  Is drinking 4 liters of water each day unhealthy?   \n287   574   575  If there will be a war between India and Pakis...   \n\n                                             question2  is_duplicate  \\\nid                                                                     \n25   What are some tips on making it through the jo...             0   \n42           Can I make 30,000 a month by day trading?             0   \n111  Why is the USA the most powerful country of th...             0   \n231  How many liters of water should I drink if I r...             0   \n287  Who will win if a war starts between India and...             1   \n\n     similarity                                           q_concat  \nid                                                                  \n25     0.989188  What are some tips on making it through the jo...  \n42     0.998203  Can I make 50,000 a month by day trading? Can ...  \n111    0.994251  Is USA the most powerful country of the world?...  \n231    0.866125  Is drinking 4 liters of water each day unhealt...  \n287    0.984085  If there will be a war between India and Pakis...  ",
            "text/html": "\u003cdiv\u003e\n\u003cstyle scoped\u003e\n    .dataframe tbody tr th:only-of-type {\n        vertical-align: middle;\n    }\n\n    .dataframe tbody tr th {\n        vertical-align: top;\n    }\n\n    .dataframe thead th {\n        text-align: right;\n    }\n\u003c/style\u003e\n\u003ctable border\u003d\"1\" class\u003d\"dataframe\"\u003e\n  \u003cthead\u003e\n    \u003ctr style\u003d\"text-align: right;\"\u003e\n      \u003cth\u003e\u003c/th\u003e\n      \u003cth\u003eqid1\u003c/th\u003e\n      \u003cth\u003eqid2\u003c/th\u003e\n      \u003cth\u003equestion1\u003c/th\u003e\n      \u003cth\u003equestion2\u003c/th\u003e\n      \u003cth\u003eis_duplicate\u003c/th\u003e\n      \u003cth\u003esimilarity\u003c/th\u003e\n      \u003cth\u003eq_concat\u003c/th\u003e\n    \u003c/tr\u003e\n    \u003ctr\u003e\n      \u003cth\u003eid\u003c/th\u003e\n      \u003cth\u003e\u003c/th\u003e\n      \u003cth\u003e\u003c/th\u003e\n      \u003cth\u003e\u003c/th\u003e\n      \u003cth\u003e\u003c/th\u003e\n      \u003cth\u003e\u003c/th\u003e\n      \u003cth\u003e\u003c/th\u003e\n      \u003cth\u003e\u003c/th\u003e\n    \u003c/tr\u003e\n  \u003c/thead\u003e\n  \u003ctbody\u003e\n    \u003ctr\u003e\n      \u003cth\u003e25\u003c/th\u003e\n      \u003ctd\u003e51\u003c/td\u003e\n      \u003ctd\u003e52\u003c/td\u003e\n      \u003ctd\u003eWhat are some tips on making it through the jo...\u003c/td\u003e\n      \u003ctd\u003eWhat are some tips on making it through the jo...\u003c/td\u003e\n      \u003ctd\u003e0\u003c/td\u003e\n      \u003ctd\u003e0.989188\u003c/td\u003e\n      \u003ctd\u003eWhat are some tips on making it through the jo...\u003c/td\u003e\n    \u003c/tr\u003e\n    \u003ctr\u003e\n      \u003cth\u003e42\u003c/th\u003e\n      \u003ctd\u003e85\u003c/td\u003e\n      \u003ctd\u003e86\u003c/td\u003e\n      \u003ctd\u003eCan I make 50,000 a month by day trading?\u003c/td\u003e\n      \u003ctd\u003eCan I make 30,000 a month by day trading?\u003c/td\u003e\n      \u003ctd\u003e0\u003c/td\u003e\n      \u003ctd\u003e0.998203\u003c/td\u003e\n      \u003ctd\u003eCan I make 50,000 a month by day trading? Can ...\u003c/td\u003e\n    \u003c/tr\u003e\n    \u003ctr\u003e\n      \u003cth\u003e111\u003c/th\u003e\n      \u003ctd\u003e223\u003c/td\u003e\n      \u003ctd\u003e224\u003c/td\u003e\n      \u003ctd\u003eIs USA the most powerful country of the world?\u003c/td\u003e\n      \u003ctd\u003eWhy is the USA the most powerful country of th...\u003c/td\u003e\n      \u003ctd\u003e0\u003c/td\u003e\n      \u003ctd\u003e0.994251\u003c/td\u003e\n      \u003ctd\u003eIs USA the most powerful country of the world?...\u003c/td\u003e\n    \u003c/tr\u003e\n    \u003ctr\u003e\n      \u003cth\u003e231\u003c/th\u003e\n      \u003ctd\u003e463\u003c/td\u003e\n      \u003ctd\u003e464\u003c/td\u003e\n      \u003ctd\u003eIs drinking 4 liters of water each day unhealthy?\u003c/td\u003e\n      \u003ctd\u003eHow many liters of water should I drink if I r...\u003c/td\u003e\n      \u003ctd\u003e0\u003c/td\u003e\n      \u003ctd\u003e0.866125\u003c/td\u003e\n      \u003ctd\u003eIs drinking 4 liters of water each day unhealt...\u003c/td\u003e\n    \u003c/tr\u003e\n    \u003ctr\u003e\n      \u003cth\u003e287\u003c/th\u003e\n      \u003ctd\u003e574\u003c/td\u003e\n      \u003ctd\u003e575\u003c/td\u003e\n      \u003ctd\u003eIf there will be a war between India and Pakis...\u003c/td\u003e\n      \u003ctd\u003eWho will win if a war starts between India and...\u003c/td\u003e\n      \u003ctd\u003e1\u003c/td\u003e\n      \u003ctd\u003e0.984085\u003c/td\u003e\n      \u003ctd\u003eIf there will be a war between India and Pakis...\u003c/td\u003e\n    \u003c/tr\u003e\n  \u003c/tbody\u003e\n\u003c/table\u003e\n\u003c/div\u003e"
          },
          "metadata": {},
          "output_type": "execute_result",
          "execution_count": 4
        }
      ],
      "source": "nlp \u003d spacy.load(\u0027en_core_web_lg\u0027)\n\nq1_parsed \u003d parse(nlp, df[\u0027question1\u0027])\nq2_parsed \u003d parse(nlp, df[\u0027question2\u0027])\n\ndf[\u0027similarity\u0027] \u003d get_similarity(q1_parsed, q2_parsed)\ndf[\u0027q_concat\u0027] \u003d df[\u0027question1\u0027].map(str) + \u0027 \u0027 + df[\u0027question2\u0027]\n\ndf.head()\n",
      "metadata": {
        "pycharm": {
          "metadata": false,
          "name": "#%%\n",
          "is_executing": false
        }
      }
    },
    {
      "cell_type": "markdown",
      "source": "Train-test split",
      "metadata": {
        "pycharm": {
          "metadata": false
        }
      }
    },
    {
      "cell_type": "code",
      "execution_count": 5,
      "metadata": {
        "pycharm": {
          "is_executing": false
        }
      },
      "outputs": [
        {
          "data": {
            "text/plain": "        similarity                                           q_concat\nid                                                                   \n300308    0.930127  How do I use \"would\", \"could\", \"should\", \"woul...\n377555    0.969686  What are the differences between permittivity ...\n75465     0.987111  What would you change about Quora and why? Wha...\n247058    0.952029  What are the best books available for data str...\n269218    0.868851  What is to be written in physical education pr...",
            "text/html": "\u003cdiv\u003e\n\u003cstyle scoped\u003e\n    .dataframe tbody tr th:only-of-type {\n        vertical-align: middle;\n    }\n\n    .dataframe tbody tr th {\n        vertical-align: top;\n    }\n\n    .dataframe thead th {\n        text-align: right;\n    }\n\u003c/style\u003e\n\u003ctable border\u003d\"1\" class\u003d\"dataframe\"\u003e\n  \u003cthead\u003e\n    \u003ctr style\u003d\"text-align: right;\"\u003e\n      \u003cth\u003e\u003c/th\u003e\n      \u003cth\u003esimilarity\u003c/th\u003e\n      \u003cth\u003eq_concat\u003c/th\u003e\n    \u003c/tr\u003e\n    \u003ctr\u003e\n      \u003cth\u003eid\u003c/th\u003e\n      \u003cth\u003e\u003c/th\u003e\n      \u003cth\u003e\u003c/th\u003e\n    \u003c/tr\u003e\n  \u003c/thead\u003e\n  \u003ctbody\u003e\n    \u003ctr\u003e\n      \u003cth\u003e300308\u003c/th\u003e\n      \u003ctd\u003e0.930127\u003c/td\u003e\n      \u003ctd\u003eHow do I use \"would\", \"could\", \"should\", \"woul...\u003c/td\u003e\n    \u003c/tr\u003e\n    \u003ctr\u003e\n      \u003cth\u003e377555\u003c/th\u003e\n      \u003ctd\u003e0.969686\u003c/td\u003e\n      \u003ctd\u003eWhat are the differences between permittivity ...\u003c/td\u003e\n    \u003c/tr\u003e\n    \u003ctr\u003e\n      \u003cth\u003e75465\u003c/th\u003e\n      \u003ctd\u003e0.987111\u003c/td\u003e\n      \u003ctd\u003eWhat would you change about Quora and why? Wha...\u003c/td\u003e\n    \u003c/tr\u003e\n    \u003ctr\u003e\n      \u003cth\u003e247058\u003c/th\u003e\n      \u003ctd\u003e0.952029\u003c/td\u003e\n      \u003ctd\u003eWhat are the best books available for data str...\u003c/td\u003e\n    \u003c/tr\u003e\n    \u003ctr\u003e\n      \u003cth\u003e269218\u003c/th\u003e\n      \u003ctd\u003e0.868851\u003c/td\u003e\n      \u003ctd\u003eWhat is to be written in physical education pr...\u003c/td\u003e\n    \u003c/tr\u003e\n  \u003c/tbody\u003e\n\u003c/table\u003e\n\u003c/div\u003e"
          },
          "metadata": {},
          "output_type": "execute_result",
          "execution_count": 5
        }
      ],
      "source": "x \u003d df.drop([\u0027question1\u0027, \n             \u0027question2\u0027, \n             \u0027qid1\u0027, \n             \u0027qid2\u0027, \n             \u0027is_duplicate\u0027], axis\u003d1)\ny \u003d df[\u0027is_duplicate\u0027]\n\nx_train, x_test, y_train, y_test \u003d train_test_split(\n        x, y, stratify\u003dy, random_state\u003d42\n    )\n\nx_train.head()"
    },
    {
      "cell_type": "markdown",
      "metadata": {
        "pycharm": {}
      },
      "source": [
        "## TF-IDF Vectorizer\n",
        "\n",
        "Generate TF-IDF\u0027s for the train and test sets"
      ]
    },
    {
      "cell_type": "code",
      "execution_count": 6,
      "metadata": {
        "pycharm": {
          "is_executing": false
        }
      },
      "outputs": [
        {
          "data": {
            "text/plain": "        similarity    0    1    2    3    4    5    6    7    8  ...  13059  \\\nkey_0                                                            ...          \n300308    0.930127  0.0  0.0  0.0  0.0  0.0  0.0  0.0  0.0  0.0  ...    0.0   \n377555    0.969686  0.0  0.0  0.0  0.0  0.0  0.0  0.0  0.0  0.0  ...    0.0   \n75465     0.987111  0.0  0.0  0.0  0.0  0.0  0.0  0.0  0.0  0.0  ...    0.0   \n247058    0.952029  0.0  0.0  0.0  0.0  0.0  0.0  0.0  0.0  0.0  ...    0.0   \n269218    0.868851  0.0  0.0  0.0  0.0  0.0  0.0  0.0  0.0  0.0  ...    0.0   \n\n        13060  13061  13062  13063  13064  13065  13066  13067  13068  \nkey_0                                                                  \n300308    0.0    0.0    0.0    0.0    0.0    0.0    0.0    0.0    0.0  \n377555    0.0    0.0    0.0    0.0    0.0    0.0    0.0    0.0    0.0  \n75465     0.0    0.0    0.0    0.0    0.0    0.0    0.0    0.0    0.0  \n247058    0.0    0.0    0.0    0.0    0.0    0.0    0.0    0.0    0.0  \n269218    0.0    0.0    0.0    0.0    0.0    0.0    0.0    0.0    0.0  \n\n[5 rows x 13070 columns]",
            "text/html": "\u003cdiv\u003e\n\u003cstyle scoped\u003e\n    .dataframe tbody tr th:only-of-type {\n        vertical-align: middle;\n    }\n\n    .dataframe tbody tr th {\n        vertical-align: top;\n    }\n\n    .dataframe thead th {\n        text-align: right;\n    }\n\u003c/style\u003e\n\u003ctable border\u003d\"1\" class\u003d\"dataframe\"\u003e\n  \u003cthead\u003e\n    \u003ctr style\u003d\"text-align: right;\"\u003e\n      \u003cth\u003e\u003c/th\u003e\n      \u003cth\u003esimilarity\u003c/th\u003e\n      \u003cth\u003e0\u003c/th\u003e\n      \u003cth\u003e1\u003c/th\u003e\n      \u003cth\u003e2\u003c/th\u003e\n      \u003cth\u003e3\u003c/th\u003e\n      \u003cth\u003e4\u003c/th\u003e\n      \u003cth\u003e5\u003c/th\u003e\n      \u003cth\u003e6\u003c/th\u003e\n      \u003cth\u003e7\u003c/th\u003e\n      \u003cth\u003e8\u003c/th\u003e\n      \u003cth\u003e...\u003c/th\u003e\n      \u003cth\u003e13059\u003c/th\u003e\n      \u003cth\u003e13060\u003c/th\u003e\n      \u003cth\u003e13061\u003c/th\u003e\n      \u003cth\u003e13062\u003c/th\u003e\n      \u003cth\u003e13063\u003c/th\u003e\n      \u003cth\u003e13064\u003c/th\u003e\n      \u003cth\u003e13065\u003c/th\u003e\n      \u003cth\u003e13066\u003c/th\u003e\n      \u003cth\u003e13067\u003c/th\u003e\n      \u003cth\u003e13068\u003c/th\u003e\n    \u003c/tr\u003e\n    \u003ctr\u003e\n      \u003cth\u003ekey_0\u003c/th\u003e\n      \u003cth\u003e\u003c/th\u003e\n      \u003cth\u003e\u003c/th\u003e\n      \u003cth\u003e\u003c/th\u003e\n      \u003cth\u003e\u003c/th\u003e\n      \u003cth\u003e\u003c/th\u003e\n      \u003cth\u003e\u003c/th\u003e\n      \u003cth\u003e\u003c/th\u003e\n      \u003cth\u003e\u003c/th\u003e\n      \u003cth\u003e\u003c/th\u003e\n      \u003cth\u003e\u003c/th\u003e\n      \u003cth\u003e\u003c/th\u003e\n      \u003cth\u003e\u003c/th\u003e\n      \u003cth\u003e\u003c/th\u003e\n      \u003cth\u003e\u003c/th\u003e\n      \u003cth\u003e\u003c/th\u003e\n      \u003cth\u003e\u003c/th\u003e\n      \u003cth\u003e\u003c/th\u003e\n      \u003cth\u003e\u003c/th\u003e\n      \u003cth\u003e\u003c/th\u003e\n      \u003cth\u003e\u003c/th\u003e\n      \u003cth\u003e\u003c/th\u003e\n    \u003c/tr\u003e\n  \u003c/thead\u003e\n  \u003ctbody\u003e\n    \u003ctr\u003e\n      \u003cth\u003e300308\u003c/th\u003e\n      \u003ctd\u003e0.930127\u003c/td\u003e\n      \u003ctd\u003e0.0\u003c/td\u003e\n      \u003ctd\u003e0.0\u003c/td\u003e\n      \u003ctd\u003e0.0\u003c/td\u003e\n      \u003ctd\u003e0.0\u003c/td\u003e\n      \u003ctd\u003e0.0\u003c/td\u003e\n      \u003ctd\u003e0.0\u003c/td\u003e\n      \u003ctd\u003e0.0\u003c/td\u003e\n      \u003ctd\u003e0.0\u003c/td\u003e\n      \u003ctd\u003e0.0\u003c/td\u003e\n      \u003ctd\u003e...\u003c/td\u003e\n      \u003ctd\u003e0.0\u003c/td\u003e\n      \u003ctd\u003e0.0\u003c/td\u003e\n      \u003ctd\u003e0.0\u003c/td\u003e\n      \u003ctd\u003e0.0\u003c/td\u003e\n      \u003ctd\u003e0.0\u003c/td\u003e\n      \u003ctd\u003e0.0\u003c/td\u003e\n      \u003ctd\u003e0.0\u003c/td\u003e\n      \u003ctd\u003e0.0\u003c/td\u003e\n      \u003ctd\u003e0.0\u003c/td\u003e\n      \u003ctd\u003e0.0\u003c/td\u003e\n    \u003c/tr\u003e\n    \u003ctr\u003e\n      \u003cth\u003e377555\u003c/th\u003e\n      \u003ctd\u003e0.969686\u003c/td\u003e\n      \u003ctd\u003e0.0\u003c/td\u003e\n      \u003ctd\u003e0.0\u003c/td\u003e\n      \u003ctd\u003e0.0\u003c/td\u003e\n      \u003ctd\u003e0.0\u003c/td\u003e\n      \u003ctd\u003e0.0\u003c/td\u003e\n      \u003ctd\u003e0.0\u003c/td\u003e\n      \u003ctd\u003e0.0\u003c/td\u003e\n      \u003ctd\u003e0.0\u003c/td\u003e\n      \u003ctd\u003e0.0\u003c/td\u003e\n      \u003ctd\u003e...\u003c/td\u003e\n      \u003ctd\u003e0.0\u003c/td\u003e\n      \u003ctd\u003e0.0\u003c/td\u003e\n      \u003ctd\u003e0.0\u003c/td\u003e\n      \u003ctd\u003e0.0\u003c/td\u003e\n      \u003ctd\u003e0.0\u003c/td\u003e\n      \u003ctd\u003e0.0\u003c/td\u003e\n      \u003ctd\u003e0.0\u003c/td\u003e\n      \u003ctd\u003e0.0\u003c/td\u003e\n      \u003ctd\u003e0.0\u003c/td\u003e\n      \u003ctd\u003e0.0\u003c/td\u003e\n    \u003c/tr\u003e\n    \u003ctr\u003e\n      \u003cth\u003e75465\u003c/th\u003e\n      \u003ctd\u003e0.987111\u003c/td\u003e\n      \u003ctd\u003e0.0\u003c/td\u003e\n      \u003ctd\u003e0.0\u003c/td\u003e\n      \u003ctd\u003e0.0\u003c/td\u003e\n      \u003ctd\u003e0.0\u003c/td\u003e\n      \u003ctd\u003e0.0\u003c/td\u003e\n      \u003ctd\u003e0.0\u003c/td\u003e\n      \u003ctd\u003e0.0\u003c/td\u003e\n      \u003ctd\u003e0.0\u003c/td\u003e\n      \u003ctd\u003e0.0\u003c/td\u003e\n      \u003ctd\u003e...\u003c/td\u003e\n      \u003ctd\u003e0.0\u003c/td\u003e\n      \u003ctd\u003e0.0\u003c/td\u003e\n      \u003ctd\u003e0.0\u003c/td\u003e\n      \u003ctd\u003e0.0\u003c/td\u003e\n      \u003ctd\u003e0.0\u003c/td\u003e\n      \u003ctd\u003e0.0\u003c/td\u003e\n      \u003ctd\u003e0.0\u003c/td\u003e\n      \u003ctd\u003e0.0\u003c/td\u003e\n      \u003ctd\u003e0.0\u003c/td\u003e\n      \u003ctd\u003e0.0\u003c/td\u003e\n    \u003c/tr\u003e\n    \u003ctr\u003e\n      \u003cth\u003e247058\u003c/th\u003e\n      \u003ctd\u003e0.952029\u003c/td\u003e\n      \u003ctd\u003e0.0\u003c/td\u003e\n      \u003ctd\u003e0.0\u003c/td\u003e\n      \u003ctd\u003e0.0\u003c/td\u003e\n      \u003ctd\u003e0.0\u003c/td\u003e\n      \u003ctd\u003e0.0\u003c/td\u003e\n      \u003ctd\u003e0.0\u003c/td\u003e\n      \u003ctd\u003e0.0\u003c/td\u003e\n      \u003ctd\u003e0.0\u003c/td\u003e\n      \u003ctd\u003e0.0\u003c/td\u003e\n      \u003ctd\u003e...\u003c/td\u003e\n      \u003ctd\u003e0.0\u003c/td\u003e\n      \u003ctd\u003e0.0\u003c/td\u003e\n      \u003ctd\u003e0.0\u003c/td\u003e\n      \u003ctd\u003e0.0\u003c/td\u003e\n      \u003ctd\u003e0.0\u003c/td\u003e\n      \u003ctd\u003e0.0\u003c/td\u003e\n      \u003ctd\u003e0.0\u003c/td\u003e\n      \u003ctd\u003e0.0\u003c/td\u003e\n      \u003ctd\u003e0.0\u003c/td\u003e\n      \u003ctd\u003e0.0\u003c/td\u003e\n    \u003c/tr\u003e\n    \u003ctr\u003e\n      \u003cth\u003e269218\u003c/th\u003e\n      \u003ctd\u003e0.868851\u003c/td\u003e\n      \u003ctd\u003e0.0\u003c/td\u003e\n      \u003ctd\u003e0.0\u003c/td\u003e\n      \u003ctd\u003e0.0\u003c/td\u003e\n      \u003ctd\u003e0.0\u003c/td\u003e\n      \u003ctd\u003e0.0\u003c/td\u003e\n      \u003ctd\u003e0.0\u003c/td\u003e\n      \u003ctd\u003e0.0\u003c/td\u003e\n      \u003ctd\u003e0.0\u003c/td\u003e\n      \u003ctd\u003e0.0\u003c/td\u003e\n      \u003ctd\u003e...\u003c/td\u003e\n      \u003ctd\u003e0.0\u003c/td\u003e\n      \u003ctd\u003e0.0\u003c/td\u003e\n      \u003ctd\u003e0.0\u003c/td\u003e\n      \u003ctd\u003e0.0\u003c/td\u003e\n      \u003ctd\u003e0.0\u003c/td\u003e\n      \u003ctd\u003e0.0\u003c/td\u003e\n      \u003ctd\u003e0.0\u003c/td\u003e\n      \u003ctd\u003e0.0\u003c/td\u003e\n      \u003ctd\u003e0.0\u003c/td\u003e\n      \u003ctd\u003e0.0\u003c/td\u003e\n    \u003c/tr\u003e\n  \u003c/tbody\u003e\n\u003c/table\u003e\n\u003cp\u003e5 rows × 13070 columns\u003c/p\u003e\n\u003c/div\u003e"
          },
          "metadata": {},
          "output_type": "execute_result",
          "execution_count": 6
        }
      ],
      "source": "vectorizer \u003d TfidfVectorizer()\ntrain_tfidf \u003d vectorizer.fit_transform(\n        x_train[\u0027q_concat\u0027].values.astype(\u0027U\u0027)\n    )\ntest_tfidf \u003d vectorizer.transform(\n        x_test[\u0027q_concat\u0027].values.astype(\u0027U\u0027)\n    )\n\nx_train_bow \u003d pd.merge(\n        x_train.drop(\u0027q_concat\u0027, axis\u003d1), \n        pd.DataFrame(train_tfidf.todense(), index\u003dx_train.index), \n        on\u003dx_train.index\n    ).set_index(\u0027key_0\u0027)\nx_test_bow \u003d pd.merge(\n        x_test.drop(\u0027q_concat\u0027, axis\u003d1), \n        pd.DataFrame(test_tfidf.todense(), index\u003dx_test.index), \n        on\u003dx_test.index\n    ).set_index(\u0027key_0\u0027)\n\nx_train_bow.head()"
    },
    {
      "cell_type": "markdown",
      "metadata": {
        "pycharm": {}
      },
      "source": "## Model 1: Multinomial Naive Bayes\n\nUsing cosine similarities and TF-IDF\u0027s as features, Multinomial Naive Bayes achieves quite high accuracy, but a notable bias towards duplicate predictions as illustrated by the Confusion Matrix."
    },
    {
      "cell_type": "code",
      "execution_count": 7,
      "metadata": {
        "pycharm": {
          "is_executing": false
        }
      },
      "outputs": [
        {
          "name": "stdout",
          "text": [
            "0.6896149358226371\n[[1562   49]\n [ 749  211]]\n"
          ],
          "output_type": "stream"
        }
      ],
      "source": [
        "mnb \u003d MultinomialNB()\n",
        "mnb.fit(x_train_bow, y_train)\n",
        "preds \u003d mnb.predict(x_test_bow)\n",
        "print(accuracy_score(y_test, preds))\n",
        "print(confusion_matrix(y_test, preds))"
      ]
    },
    {
      "cell_type": "markdown",
      "metadata": {
        "pycharm": {}
      },
      "source": "## Feature transformation: Singular Value Decomposition\n\nUsing sklearn\u0027s TruncatedSVD class, reduce the TF-IDF\u0027s into a lower feature space of 100 components"
    },
    {
      "cell_type": "code",
      "execution_count": 8,
      "metadata": {
        "pycharm": {
          "is_executing": false
        }
      },
      "outputs": [
        {
          "data": {
            "text/plain": "        similarity         0         1         2         3         4  \\\nkey_0                                                                  \n300308    0.930127  0.187575  0.045253 -0.089859  0.063262 -0.088426   \n377555    0.969686  0.159295 -0.128140 -0.062896  0.137959  0.007423   \n75465     0.987111  0.209598  0.076719 -0.294874 -0.154684  0.049238   \n247058    0.952029  0.209052 -0.117752  0.076499 -0.107127  0.065773   \n269218    0.868851  0.142602  0.038235  0.058988  0.057774 -0.019644   \n\n               5         6         7         8  ...        90        91  \\\nkey_0                                           ...                       \n300308 -0.001472 -0.016887  0.033564  0.049702  ...  0.061069 -0.041443   \n377555 -0.138207  0.031591  0.156295  0.070564  ... -0.008332 -0.003728   \n75465   0.066283  0.186079  0.051552  0.078945  ...  0.014643 -0.023534   \n247058 -0.048192 -0.129439  0.050600  0.009955  ...  0.041605  0.030666   \n269218  0.017936 -0.018200 -0.025484 -0.010537  ... -0.003668 -0.018677   \n\n              92        93        94        95        96        97        98  \\\nkey_0                                                                          \n300308 -0.009761  0.077965 -0.044491  0.000530 -0.018479  0.084164  0.013864   \n377555 -0.002333  0.002204  0.000030  0.005239  0.001501 -0.005327  0.000386   \n75465  -0.002114  0.037925 -0.046528  0.131369 -0.077564  0.058452  0.014860   \n247058  0.030029  0.054183 -0.023131  0.022277  0.046116 -0.046678 -0.007315   \n269218 -0.005009 -0.022032 -0.020165 -0.005459  0.005218 -0.007658 -0.006429   \n\n              99  \nkey_0             \n300308  0.006785  \n377555 -0.012356  \n75465  -0.013146  \n247058  0.050097  \n269218  0.029034  \n\n[5 rows x 101 columns]",
            "text/html": "\u003cdiv\u003e\n\u003cstyle scoped\u003e\n    .dataframe tbody tr th:only-of-type {\n        vertical-align: middle;\n    }\n\n    .dataframe tbody tr th {\n        vertical-align: top;\n    }\n\n    .dataframe thead th {\n        text-align: right;\n    }\n\u003c/style\u003e\n\u003ctable border\u003d\"1\" class\u003d\"dataframe\"\u003e\n  \u003cthead\u003e\n    \u003ctr style\u003d\"text-align: right;\"\u003e\n      \u003cth\u003e\u003c/th\u003e\n      \u003cth\u003esimilarity\u003c/th\u003e\n      \u003cth\u003e0\u003c/th\u003e\n      \u003cth\u003e1\u003c/th\u003e\n      \u003cth\u003e2\u003c/th\u003e\n      \u003cth\u003e3\u003c/th\u003e\n      \u003cth\u003e4\u003c/th\u003e\n      \u003cth\u003e5\u003c/th\u003e\n      \u003cth\u003e6\u003c/th\u003e\n      \u003cth\u003e7\u003c/th\u003e\n      \u003cth\u003e8\u003c/th\u003e\n      \u003cth\u003e...\u003c/th\u003e\n      \u003cth\u003e90\u003c/th\u003e\n      \u003cth\u003e91\u003c/th\u003e\n      \u003cth\u003e92\u003c/th\u003e\n      \u003cth\u003e93\u003c/th\u003e\n      \u003cth\u003e94\u003c/th\u003e\n      \u003cth\u003e95\u003c/th\u003e\n      \u003cth\u003e96\u003c/th\u003e\n      \u003cth\u003e97\u003c/th\u003e\n      \u003cth\u003e98\u003c/th\u003e\n      \u003cth\u003e99\u003c/th\u003e\n    \u003c/tr\u003e\n    \u003ctr\u003e\n      \u003cth\u003ekey_0\u003c/th\u003e\n      \u003cth\u003e\u003c/th\u003e\n      \u003cth\u003e\u003c/th\u003e\n      \u003cth\u003e\u003c/th\u003e\n      \u003cth\u003e\u003c/th\u003e\n      \u003cth\u003e\u003c/th\u003e\n      \u003cth\u003e\u003c/th\u003e\n      \u003cth\u003e\u003c/th\u003e\n      \u003cth\u003e\u003c/th\u003e\n      \u003cth\u003e\u003c/th\u003e\n      \u003cth\u003e\u003c/th\u003e\n      \u003cth\u003e\u003c/th\u003e\n      \u003cth\u003e\u003c/th\u003e\n      \u003cth\u003e\u003c/th\u003e\n      \u003cth\u003e\u003c/th\u003e\n      \u003cth\u003e\u003c/th\u003e\n      \u003cth\u003e\u003c/th\u003e\n      \u003cth\u003e\u003c/th\u003e\n      \u003cth\u003e\u003c/th\u003e\n      \u003cth\u003e\u003c/th\u003e\n      \u003cth\u003e\u003c/th\u003e\n      \u003cth\u003e\u003c/th\u003e\n    \u003c/tr\u003e\n  \u003c/thead\u003e\n  \u003ctbody\u003e\n    \u003ctr\u003e\n      \u003cth\u003e300308\u003c/th\u003e\n      \u003ctd\u003e0.930127\u003c/td\u003e\n      \u003ctd\u003e0.187575\u003c/td\u003e\n      \u003ctd\u003e0.045253\u003c/td\u003e\n      \u003ctd\u003e-0.089859\u003c/td\u003e\n      \u003ctd\u003e0.063262\u003c/td\u003e\n      \u003ctd\u003e-0.088426\u003c/td\u003e\n      \u003ctd\u003e-0.001472\u003c/td\u003e\n      \u003ctd\u003e-0.016887\u003c/td\u003e\n      \u003ctd\u003e0.033564\u003c/td\u003e\n      \u003ctd\u003e0.049702\u003c/td\u003e\n      \u003ctd\u003e...\u003c/td\u003e\n      \u003ctd\u003e0.061069\u003c/td\u003e\n      \u003ctd\u003e-0.041443\u003c/td\u003e\n      \u003ctd\u003e-0.009761\u003c/td\u003e\n      \u003ctd\u003e0.077965\u003c/td\u003e\n      \u003ctd\u003e-0.044491\u003c/td\u003e\n      \u003ctd\u003e0.000530\u003c/td\u003e\n      \u003ctd\u003e-0.018479\u003c/td\u003e\n      \u003ctd\u003e0.084164\u003c/td\u003e\n      \u003ctd\u003e0.013864\u003c/td\u003e\n      \u003ctd\u003e0.006785\u003c/td\u003e\n    \u003c/tr\u003e\n    \u003ctr\u003e\n      \u003cth\u003e377555\u003c/th\u003e\n      \u003ctd\u003e0.969686\u003c/td\u003e\n      \u003ctd\u003e0.159295\u003c/td\u003e\n      \u003ctd\u003e-0.128140\u003c/td\u003e\n      \u003ctd\u003e-0.062896\u003c/td\u003e\n      \u003ctd\u003e0.137959\u003c/td\u003e\n      \u003ctd\u003e0.007423\u003c/td\u003e\n      \u003ctd\u003e-0.138207\u003c/td\u003e\n      \u003ctd\u003e0.031591\u003c/td\u003e\n      \u003ctd\u003e0.156295\u003c/td\u003e\n      \u003ctd\u003e0.070564\u003c/td\u003e\n      \u003ctd\u003e...\u003c/td\u003e\n      \u003ctd\u003e-0.008332\u003c/td\u003e\n      \u003ctd\u003e-0.003728\u003c/td\u003e\n      \u003ctd\u003e-0.002333\u003c/td\u003e\n      \u003ctd\u003e0.002204\u003c/td\u003e\n      \u003ctd\u003e0.000030\u003c/td\u003e\n      \u003ctd\u003e0.005239\u003c/td\u003e\n      \u003ctd\u003e0.001501\u003c/td\u003e\n      \u003ctd\u003e-0.005327\u003c/td\u003e\n      \u003ctd\u003e0.000386\u003c/td\u003e\n      \u003ctd\u003e-0.012356\u003c/td\u003e\n    \u003c/tr\u003e\n    \u003ctr\u003e\n      \u003cth\u003e75465\u003c/th\u003e\n      \u003ctd\u003e0.987111\u003c/td\u003e\n      \u003ctd\u003e0.209598\u003c/td\u003e\n      \u003ctd\u003e0.076719\u003c/td\u003e\n      \u003ctd\u003e-0.294874\u003c/td\u003e\n      \u003ctd\u003e-0.154684\u003c/td\u003e\n      \u003ctd\u003e0.049238\u003c/td\u003e\n      \u003ctd\u003e0.066283\u003c/td\u003e\n      \u003ctd\u003e0.186079\u003c/td\u003e\n      \u003ctd\u003e0.051552\u003c/td\u003e\n      \u003ctd\u003e0.078945\u003c/td\u003e\n      \u003ctd\u003e...\u003c/td\u003e\n      \u003ctd\u003e0.014643\u003c/td\u003e\n      \u003ctd\u003e-0.023534\u003c/td\u003e\n      \u003ctd\u003e-0.002114\u003c/td\u003e\n      \u003ctd\u003e0.037925\u003c/td\u003e\n      \u003ctd\u003e-0.046528\u003c/td\u003e\n      \u003ctd\u003e0.131369\u003c/td\u003e\n      \u003ctd\u003e-0.077564\u003c/td\u003e\n      \u003ctd\u003e0.058452\u003c/td\u003e\n      \u003ctd\u003e0.014860\u003c/td\u003e\n      \u003ctd\u003e-0.013146\u003c/td\u003e\n    \u003c/tr\u003e\n    \u003ctr\u003e\n      \u003cth\u003e247058\u003c/th\u003e\n      \u003ctd\u003e0.952029\u003c/td\u003e\n      \u003ctd\u003e0.209052\u003c/td\u003e\n      \u003ctd\u003e-0.117752\u003c/td\u003e\n      \u003ctd\u003e0.076499\u003c/td\u003e\n      \u003ctd\u003e-0.107127\u003c/td\u003e\n      \u003ctd\u003e0.065773\u003c/td\u003e\n      \u003ctd\u003e-0.048192\u003c/td\u003e\n      \u003ctd\u003e-0.129439\u003c/td\u003e\n      \u003ctd\u003e0.050600\u003c/td\u003e\n      \u003ctd\u003e0.009955\u003c/td\u003e\n      \u003ctd\u003e...\u003c/td\u003e\n      \u003ctd\u003e0.041605\u003c/td\u003e\n      \u003ctd\u003e0.030666\u003c/td\u003e\n      \u003ctd\u003e0.030029\u003c/td\u003e\n      \u003ctd\u003e0.054183\u003c/td\u003e\n      \u003ctd\u003e-0.023131\u003c/td\u003e\n      \u003ctd\u003e0.022277\u003c/td\u003e\n      \u003ctd\u003e0.046116\u003c/td\u003e\n      \u003ctd\u003e-0.046678\u003c/td\u003e\n      \u003ctd\u003e-0.007315\u003c/td\u003e\n      \u003ctd\u003e0.050097\u003c/td\u003e\n    \u003c/tr\u003e\n    \u003ctr\u003e\n      \u003cth\u003e269218\u003c/th\u003e\n      \u003ctd\u003e0.868851\u003c/td\u003e\n      \u003ctd\u003e0.142602\u003c/td\u003e\n      \u003ctd\u003e0.038235\u003c/td\u003e\n      \u003ctd\u003e0.058988\u003c/td\u003e\n      \u003ctd\u003e0.057774\u003c/td\u003e\n      \u003ctd\u003e-0.019644\u003c/td\u003e\n      \u003ctd\u003e0.017936\u003c/td\u003e\n      \u003ctd\u003e-0.018200\u003c/td\u003e\n      \u003ctd\u003e-0.025484\u003c/td\u003e\n      \u003ctd\u003e-0.010537\u003c/td\u003e\n      \u003ctd\u003e...\u003c/td\u003e\n      \u003ctd\u003e-0.003668\u003c/td\u003e\n      \u003ctd\u003e-0.018677\u003c/td\u003e\n      \u003ctd\u003e-0.005009\u003c/td\u003e\n      \u003ctd\u003e-0.022032\u003c/td\u003e\n      \u003ctd\u003e-0.020165\u003c/td\u003e\n      \u003ctd\u003e-0.005459\u003c/td\u003e\n      \u003ctd\u003e0.005218\u003c/td\u003e\n      \u003ctd\u003e-0.007658\u003c/td\u003e\n      \u003ctd\u003e-0.006429\u003c/td\u003e\n      \u003ctd\u003e0.029034\u003c/td\u003e\n    \u003c/tr\u003e\n  \u003c/tbody\u003e\n\u003c/table\u003e\n\u003cp\u003e5 rows × 101 columns\u003c/p\u003e\n\u003c/div\u003e"
          },
          "metadata": {},
          "output_type": "execute_result",
          "execution_count": 8
        }
      ],
      "source": [
        "svd \u003d TruncatedSVD(n_components\u003d100, random_state\u003d42)\n",
        "train_tfidf_lsa \u003d svd.fit_transform(train_tfidf)\n",
        "test_tfidf_lsa \u003d svd.transform(test_tfidf)\n",
        "\n",
        "x_train_lsa \u003d pd.merge(\n",
        "        x_train.drop(\u0027q_concat\u0027, axis\u003d1), \n",
        "        pd.DataFrame(train_tfidf_lsa, index\u003dx_train.index), \n",
        "        on\u003dx_train.index\n",
        "    ).set_index(\u0027key_0\u0027)\n",
        "x_test_lsa \u003d pd.merge(\n",
        "        x_test.drop(\u0027q_concat\u0027, axis\u003d1), \n",
        "        pd.DataFrame(test_tfidf_lsa, index\u003dx_test.index), \n",
        "        on\u003dx_test.index\n",
        "    ).set_index(\u0027key_0\u0027)\n",
        "\n",
        "x_train_lsa.head()"
      ]
    },
    {
      "cell_type": "markdown",
      "metadata": {
        "pycharm": {}
      },
      "source": [
        "## Model 2: Support Vector Machine\n",
        "\n",
        "Using cosine similarity and the decomposed TF-IDF\u0027s as features, the linear Support Vector Machine Classifier demonstrates greatly improved performance over Multinomial Naive Bayes, with much less bias toward duplicate predictions"
      ]
    },
    {
      "cell_type": "code",
      "execution_count": 9,
      "metadata": {
        "pycharm": {
          "is_executing": false
        }
      },
      "outputs": [
        {
          "name": "stdout",
          "text": [
            "0.7288992609879424\n[[1388  223]\n [ 474  486]]\n"
          ],
          "output_type": "stream"
        }
      ],
      "source": [
        "svc \u003d SVC(kernel\u003d\u0027linear\u0027, random_state\u003d42).fit(x_train_lsa, y_train)\n",
        "preds \u003d svc.predict(x_test_lsa)\n",
        "print(accuracy_score(y_test, preds))\n",
        "print(confusion_matrix(y_test, preds))"
      ]
    },
    {
      "cell_type": "markdown",
      "metadata": {
        "pycharm": {}
      },
      "source": ""
    }
  ],
  "metadata": {
    "kernelspec": {
      "display_name": "Python 3",
      "language": "python",
      "name": "python3"
    },
    "language_info": {
      "codemirror_mode": {
        "name": "ipython",
        "version": 3
      },
      "file_extension": ".py",
      "mimetype": "text/x-python",
      "name": "python",
      "nbconvert_exporter": "python",
      "pygments_lexer": "ipython3",
      "version": "3.7.2"
    }
  },
  "nbformat": 4,
  "nbformat_minor": 2
}